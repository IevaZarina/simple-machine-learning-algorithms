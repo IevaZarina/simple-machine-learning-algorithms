{
 "cells": [
  {
   "cell_type": "code",
   "execution_count": 34,
   "metadata": {
    "collapsed": false
   },
   "outputs": [
    {
     "name": "stdout",
     "output_type": "stream",
     "text": [
      "[1, 1, 2]\n"
     ]
    }
   ],
   "source": [
    "# knn\n",
    "\n",
    "import math\n",
    "from collections import defaultdict\n",
    "from operator import itemgetter\n",
    "\n",
    "\n",
    "# Some handmade train/test data\n",
    "X_train = [\n",
    "    [1, 1],\n",
    "    [1, 2],\n",
    "    [2, 4],\n",
    "    [3, 5],\n",
    "    [1, 0],\n",
    "    [0, 0],\n",
    "    [1, -2],\n",
    "    [-1, 0],\n",
    "    [-1, -2],\n",
    "    [-2, -2]\n",
    "]\n",
    "\n",
    "y_train = [1, 1, 1, 1, 1, 2, 2, 2, 2, 2]\n",
    "\n",
    "X_test = [\n",
    "    [5, 5],\n",
    "    [0, -1],\n",
    "    [-5, -5]\n",
    "]\n",
    "\n",
    "y_test = [1, 2, 2]\n",
    "\n",
    "\n",
    "def get_most_common_item(array):\n",
    "    count_dict = defaultdict(int)\n",
    "    for key in array:\n",
    "        count_dict[key] += 1\n",
    "    key, count = max(count_dict.iteritems(), key=itemgetter(1))\n",
    "    return key\n",
    "\n",
    "\n",
    "# https://en.wikipedia.org/wiki/Euclidean_distance\n",
    "def euclidean_dist(A, B):\n",
    "    return math.sqrt(sum([(A[i]-B[i])**2 for i, _ in enumerate(A)]) )\n",
    "\n",
    "\n",
    "def knn(X_train, y_train, X_test, k=1):\n",
    "    y_test = []\n",
    "    for test_row in X_test:\n",
    "        eucl_dist = [euclidean_dist(train_row, test_row) for train_row in X_train]\n",
    "        sorted_eucl_dist = sorted(eucl_dist)\n",
    "        closest_knn = [eucl_dist.index(sorted_eucl_dist[i]) for i in xrange(0, k)] if k > 1 else [eucl_dist.index(min(eucl_dist))]\n",
    "        closest_labels_knn = [y_train[x] for x in closest_knn]\n",
    "        y_test.append(get_most_common_item(closest_labels_knn))\n",
    "    return y_test\n",
    "    \n",
    "    \n",
    "# Testing Euclidean distance        \n",
    "#A = [-1,2,3]\n",
    "#B = [4,0,-3]\n",
    "#print euclidean_dist(A, B)\n",
    "\n",
    "print knn(X_train, y_train, X_test, k=2)\n",
    "\n",
    "\n",
    "\n"
   ]
  }
 ],
 "metadata": {
  "kernelspec": {
   "display_name": "Python 2",
   "language": "python",
   "name": "python2"
  },
  "language_info": {
   "codemirror_mode": {
    "name": "ipython",
    "version": 2
   },
   "file_extension": ".py",
   "mimetype": "text/x-python",
   "name": "python",
   "nbconvert_exporter": "python",
   "pygments_lexer": "ipython2",
   "version": "2.7.13"
  }
 },
 "nbformat": 4,
 "nbformat_minor": 2
}
